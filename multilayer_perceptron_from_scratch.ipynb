{
 "cells": [
  {
   "cell_type": "code",
   "execution_count": 1,
   "metadata": {
    "ExecuteTime": {
     "end_time": "2018-02-27T18:17:57.578210Z",
     "start_time": "2018-02-27T18:17:56.281014Z"
    },
    "collapsed": true
   },
   "outputs": [],
   "source": [
    "# 导入mxnet\n",
    "import mxnet as mx\n",
    "\n",
    "# 设置随机种子\n",
    "mx.random.seed(2)\n",
    "\n",
    "from mxnet import gluon\n",
    "from mxnet import ndarray as nd\n",
    "from mxnet import autograd\n",
    "from mxnet import image\n",
    "from utils import load_data_fashion_mnist, accuracy, evaluate_accuracy, SGD"
   ]
  },
  {
   "cell_type": "markdown",
   "metadata": {},
   "source": [
    "## 数据获取"
   ]
  },
  {
   "cell_type": "code",
   "execution_count": 2,
   "metadata": {
    "ExecuteTime": {
     "end_time": "2018-02-27T18:17:58.698084Z",
     "start_time": "2018-02-27T18:17:57.580079Z"
    },
    "collapsed": true
   },
   "outputs": [],
   "source": [
    "# 批数据大小\n",
    "batch_size = 256\n",
    "\n",
    "# 获取训练数据和测试数据\n",
    "train_data, test_data = load_data_fashion_mnist(batch_size)"
   ]
  },
  {
   "cell_type": "markdown",
   "metadata": {},
   "source": [
    "## 多层感知机"
   ]
  },
  {
   "cell_type": "code",
   "execution_count": 3,
   "metadata": {
    "ExecuteTime": {
     "end_time": "2018-02-27T18:17:58.710837Z",
     "start_time": "2018-02-27T18:17:58.699828Z"
    },
    "collapsed": true
   },
   "outputs": [],
   "source": [
    "# 输入数据大小\n",
    "num_inputs = 28 * 28\n",
    "# 输出数据大小, 分为10类\n",
    "num_outputs = 10\n",
    "\n",
    "# 隐藏单元个数\n",
    "num_hidden = 256\n",
    "\n",
    "# 正态分布的标准差\n",
    "weight_scale = 0.01\n",
    "\n",
    "# 随机初始化输入层权重\n",
    "W1 = nd.random_normal(shape=(num_inputs, num_hidden), scale=weight_scale)\n",
    "b1 = nd.zeros(num_hidden)\n",
    "\n",
    "# 随机初始化隐藏层权重\n",
    "W2 = nd.random_normal(shape=(num_hidden, num_outputs), scale=weight_scale)\n",
    "b2 = nd.zeros(num_outputs)\n",
    "\n",
    "# 参数数组\n",
    "params = [W1, b1, W2, b2]\n",
    "\n",
    "# 需要计算梯度, 添加自动求导\n",
    "for param in params:\n",
    "    param.attach_grad()"
   ]
  },
  {
   "cell_type": "markdown",
   "metadata": {},
   "source": [
    "## 激活函数"
   ]
  },
  {
   "cell_type": "code",
   "execution_count": 4,
   "metadata": {
    "ExecuteTime": {
     "end_time": "2018-02-27T18:17:58.716307Z",
     "start_time": "2018-02-27T18:17:58.712901Z"
    },
    "collapsed": true
   },
   "outputs": [],
   "source": [
    "# 激活函数使用ReLU, relu(x)=max(x,0)\n",
    "def relu(X):\n",
    "    return nd.maximum(X, 0)"
   ]
  },
  {
   "cell_type": "markdown",
   "metadata": {},
   "source": [
    "## 定义模型"
   ]
  },
  {
   "cell_type": "code",
   "execution_count": 5,
   "metadata": {
    "ExecuteTime": {
     "end_time": "2018-02-27T18:17:58.723268Z",
     "start_time": "2018-02-27T18:17:58.717841Z"
    },
    "collapsed": false
   },
   "outputs": [],
   "source": [
    "def net(X):\n",
    "    # 输入数据重排\n",
    "    X = X.reshape((-1, num_inputs))\n",
    "    # 计算激活值\n",
    "    h1 = relu(nd.dot(X, W1) + b1)\n",
    "    # 计算输出\n",
    "    output = nd.dot(h1, W2) + b2\n",
    "    return output"
   ]
  },
  {
   "cell_type": "markdown",
   "metadata": {},
   "source": [
    "## Softmax和交叉熵损失函数"
   ]
  },
  {
   "cell_type": "code",
   "execution_count": 6,
   "metadata": {
    "ExecuteTime": {
     "end_time": "2018-02-27T18:17:58.727653Z",
     "start_time": "2018-02-27T18:17:58.724695Z"
    },
    "collapsed": true
   },
   "outputs": [],
   "source": [
    "# 定义交叉熵损失\n",
    "softmax_cross_entropy = gluon.loss.SoftmaxCrossEntropyLoss()"
   ]
  },
  {
   "cell_type": "markdown",
   "metadata": {},
   "source": [
    "## 训练"
   ]
  },
  {
   "cell_type": "code",
   "execution_count": 7,
   "metadata": {
    "ExecuteTime": {
     "end_time": "2018-02-27T18:18:10.076855Z",
     "start_time": "2018-02-27T18:17:58.729198Z"
    },
    "collapsed": false
   },
   "outputs": [
    {
     "name": "stdout",
     "output_type": "stream",
     "text": [
      "Epoch 0. Loss: 1.042064, Train acc 0.630976, Test acc 0.776142\n",
      "Epoch 1. Loss: 0.601578, Train acc 0.788862, Test acc 0.815204\n",
      "Epoch 2. Loss: 0.525148, Train acc 0.816556, Test acc 0.835136\n",
      "Epoch 3. Loss: 0.486619, Train acc 0.829427, Test acc 0.833033\n",
      "Epoch 4. Loss: 0.459395, Train acc 0.836104, Test acc 0.835136\n"
     ]
    }
   ],
   "source": [
    "# 定义迭代周期\n",
    "epochs = 5\n",
    "\n",
    "## 定义学习率\n",
    "learning_rate = 0.1\n",
    "\n",
    "# 训练\n",
    "for epoch in range(epochs):\n",
    "    # 训练损失\n",
    "    train_loss = 0.0\n",
    "    # 训练集准确率\n",
    "    train_acc = 0.0\n",
    "    # 迭代训练\n",
    "    for data, label in train_data:\n",
    "        # 记录梯度\n",
    "        with autograd.record():\n",
    "            # 计算输出\n",
    "            output = net(data)\n",
    "            # 计算损失\n",
    "            loss = softmax_cross_entropy(output, label)\n",
    "        # 反向传播求梯度\n",
    "        loss.backward()\n",
    "        # 梯度下降\n",
    "        SGD(params, learning_rate/batch_size)\n",
    "        # 总的训练损失\n",
    "        train_loss += nd.mean(loss).asscalar()\n",
    "        # 总的训练准确率\n",
    "        train_acc += accuracy(output, label)\n",
    "    \n",
    "    # 测试集的准确率\n",
    "    test_acc = evaluate_accuracy(test_data, net)\n",
    "    \n",
    "    print(\"Epoch %d. Loss: %f, Train acc %f, Test acc %f\" % (\n",
    "        epoch, train_loss / len(train_data), train_acc / len(train_data), test_acc))"
   ]
  }
 ],
 "metadata": {
  "kernelspec": {
   "display_name": "Python 2",
   "language": "python",
   "name": "python2"
  },
  "language_info": {
   "codemirror_mode": {
    "name": "ipython",
    "version": 2
   },
   "file_extension": ".py",
   "mimetype": "text/x-python",
   "name": "python",
   "nbconvert_exporter": "python",
   "pygments_lexer": "ipython2",
   "version": "2.7.13"
  }
 },
 "nbformat": 4,
 "nbformat_minor": 2
}
