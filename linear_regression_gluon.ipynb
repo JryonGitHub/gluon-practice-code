{
 "cells": [
  {
   "cell_type": "markdown",
   "metadata": {},
   "source": [
    "## 创建数据集"
   ]
  },
  {
   "cell_type": "code",
   "execution_count": 1,
   "metadata": {
    "ExecuteTime": {
     "end_time": "2018-02-06T19:02:40.761222Z",
     "start_time": "2018-02-06T19:02:39.491082Z"
    },
    "collapsed": true
   },
   "outputs": [],
   "source": [
    "# 导入mxnet\n",
    "import random\n",
    "import mxnet as mx\n",
    "\n",
    "# 导入mxnet的gluon, ndarray, autograd\n",
    "from mxnet import gluon\n",
    "from mxnet import autograd\n",
    "from mxnet import ndarray as nd\n",
    "\n",
    "# 设置随机种子\n",
    "mx.random.seed(1)\n",
    "random.seed(1)\n",
    "\n",
    "# 训练数据的维度\n",
    "num_inputs = 2\n",
    "\n",
    "# 训练数据的样本数量\n",
    "num_examples = 1000\n",
    "\n",
    "# 实际的权重w\n",
    "true_w = [2, -3.4]\n",
    "\n",
    "# 实际的偏置b\n",
    "true_b = 4.2\n",
    "\n",
    "# 随机生成均值为0, 方差为1, 服从正态分布的训练数据X, \n",
    "X = nd.random_normal(shape=(num_examples, num_inputs))\n",
    "\n",
    "# 根据X, w, b生成对应的输出y\n",
    "y = true_w[0] * X[:, 0] + true_w[1] * X[:, 1] + true_b \n",
    "\n",
    "# 给y加上随机噪声\n",
    "y += 0.01 * nd.random_normal(shape=y.shape)"
   ]
  },
  {
   "cell_type": "markdown",
   "metadata": {},
   "source": [
    "## 数据展示"
   ]
  },
  {
   "cell_type": "code",
   "execution_count": 2,
   "metadata": {
    "ExecuteTime": {
     "end_time": "2018-02-06T19:02:41.230757Z",
     "start_time": "2018-02-06T19:02:40.762933Z"
    },
    "collapsed": false
   },
   "outputs": [
    {
     "data": {
      "image/png": "[encoded data removed]",
      "text/plain": [
       "<matplotlib.figure.Figure at 0x109539210>"
      ]
     },
     "metadata": {},
     "output_type": "display_data"
    }
   ],
   "source": [
    "%matplotlib inline\n",
    "import matplotlib.pyplot as plt\n",
    "\n",
    "# 绘制数据的散点图 \n",
    "plt.scatter(X[:, 1].asnumpy(), y.asnumpy())\n",
    "plt.show()"
   ]
  },
  {
   "cell_type": "markdown",
   "metadata": {},
   "source": [
    "## 数据读取"
   ]
  },
  {
   "cell_type": "code",
   "execution_count": 3,
   "metadata": {
    "ExecuteTime": {
     "end_time": "2018-02-06T19:02:41.236814Z",
     "start_time": "2018-02-06T19:02:41.232498Z"
    },
    "collapsed": false
   },
   "outputs": [],
   "source": [
    "# 训练时的批数据大小\n",
    "batch_size = 10\n",
    "\n",
    "# 创建数据集\n",
    "dataset = gluon.data.ArrayDataset(X, y)\n",
    "\n",
    "# 读取数据\n",
    "data_iter = gluon.data.DataLoader(dataset, batch_size, shuffle=True)"
   ]
  },
  {
   "cell_type": "code",
   "execution_count": 4,
   "metadata": {
    "ExecuteTime": {
     "end_time": "2018-02-06T19:02:41.245468Z",
     "start_time": "2018-02-06T19:02:41.238256Z"
    },
    "collapsed": false
   },
   "outputs": [
    {
     "name": "stdout",
     "output_type": "stream",
     "text": [
      "\n",
      "[[-2.11255503  0.61242002]\n",
      " [ 2.18546367 -0.48856559]\n",
      " [ 0.91085583  0.38985687]\n",
      " [-0.56097323  1.44421673]\n",
      " [ 0.31765923 -1.75729597]\n",
      " [-0.57738042  2.03963804]\n",
      " [-0.91808975  0.64181799]\n",
      " [-0.20269176  0.21012937]\n",
      " [-0.22549874  0.19895147]\n",
      " [ 1.42844415  0.06982213]]\n",
      "<NDArray 10x2 @cpu(0)> \n",
      "[ -2.11691356  10.22533131   4.70613146  -1.82755637  10.82125568\n",
      "  -3.88111711   0.17608714   3.07074499   3.06542921   6.82972908]\n",
      "<NDArray 10 @cpu(0)>\n"
     ]
    }
   ],
   "source": [
    "# 查看数据\n",
    "for data, label in data_iter:\n",
    "    print data, label\n",
    "    break"
   ]
  },
  {
   "cell_type": "markdown",
   "metadata": {},
   "source": [
    "## 定义模型"
   ]
  },
  {
   "cell_type": "code",
   "execution_count": 5,
   "metadata": {
    "ExecuteTime": {
     "end_time": "2018-02-06T19:02:41.250556Z",
     "start_time": "2018-02-06T19:02:41.247275Z"
    },
    "collapsed": false
   },
   "outputs": [],
   "source": [
    "# 定义一个空的模型\n",
    "net = gluon.nn.Sequential()\n",
    "\n",
    "# 加入一个Dense层\n",
    "net.add(gluon.nn.Dense(1))"
   ]
  },
  {
   "cell_type": "markdown",
   "metadata": {},
   "source": [
    "## 初始化模型参数"
   ]
  },
  {
   "cell_type": "code",
   "execution_count": 6,
   "metadata": {
    "ExecuteTime": {
     "end_time": "2018-02-06T19:02:41.255395Z",
     "start_time": "2018-02-06T19:02:41.251992Z"
    },
    "collapsed": true
   },
   "outputs": [],
   "source": [
    "net.initialize()"
   ]
  },
  {
   "cell_type": "markdown",
   "metadata": {},
   "source": [
    "## 定义损失函数"
   ]
  },
  {
   "cell_type": "code",
   "execution_count": 7,
   "metadata": {
    "ExecuteTime": {
     "end_time": "2018-02-06T19:02:41.260791Z",
     "start_time": "2018-02-06T19:02:41.257514Z"
    },
    "collapsed": true
   },
   "outputs": [],
   "source": [
    "square_loss = gluon.loss.L2Loss()"
   ]
  },
  {
   "cell_type": "markdown",
   "metadata": {
    "ExecuteTime": {
     "end_time": "2018-02-06T18:12:42.920568Z",
     "start_time": "2018-02-06T18:12:42.917424Z"
    }
   },
   "source": [
    "## 优化"
   ]
  },
  {
   "cell_type": "code",
   "execution_count": 8,
   "metadata": {
    "ExecuteTime": {
     "end_time": "2018-02-06T19:02:41.265893Z",
     "start_time": "2018-02-06T19:02:41.262365Z"
    },
    "collapsed": true
   },
   "outputs": [],
   "source": [
    "trainer = gluon.Trainer(net.collect_params(), 'sgd', {'learning_rate': 0.01})"
   ]
  },
  {
   "cell_type": "markdown",
   "metadata": {},
   "source": [
    "## 训练"
   ]
  },
  {
   "cell_type": "code",
   "execution_count": 9,
   "metadata": {
    "ExecuteTime": {
     "end_time": "2018-02-06T19:02:41.867845Z",
     "start_time": "2018-02-06T19:02:41.267689Z"
    },
    "collapsed": false
   },
   "outputs": [
    {
     "name": "stdout",
     "output_type": "stream",
     "text": [
      "Epoch 0, average loss: 7.403182\n",
      "Epoch 1, average loss: 0.854247\n",
      "Epoch 2, average loss: 0.099864\n",
      "Epoch 3, average loss: 0.011887\n",
      "Epoch 4, average loss: 0.001479\n"
     ]
    }
   ],
   "source": [
    "# 定义训练的迭代周期\n",
    "epochs = 5\n",
    "\n",
    "# 训练\n",
    "for epoch in xrange(epochs):\n",
    "    # 总的loss\n",
    "    total_loss = 0\n",
    "    for data, label in data_iter:\n",
    "        # 记录梯度\n",
    "        with autograd.record():\n",
    "            # 计算预测值\n",
    "            output = net(data)\n",
    "            # 计算loss\n",
    "            loss = square_loss(output, label)\n",
    "        # 根据loss进行反向传播计算梯度\n",
    "        loss.backward()\n",
    "        # 更新权重, batch_size用来进行梯度平均\n",
    "        trainer.step(batch_size)\n",
    "        # 计算总的loss\n",
    "        total_loss += nd.sum(loss).asscalar()\n",
    "        \n",
    "    print \"Epoch %d, average loss: %f\" % (epoch, total_loss/num_examples)"
   ]
  },
  {
   "cell_type": "markdown",
   "metadata": {},
   "source": [
    "## 参考资料\n",
    "\n",
    "* ArrayDataset  \n",
    "[https://mxnet.incubator.apache.org/api/python/gluon/data.html#mxnet.gluon.data.ArrayDataset](https://mxnet.incubator.apache.org/api/python/gluon/data.html#mxnet.gluon.data.ArrayDataset)  \n",
    "\n",
    "* DataLoader  \n",
    "[https://mxnet.incubator.apache.org/api/python/gluon/data.html?highlight=dataload#mxnet.gluon.data.DataLoader](https://mxnet.incubator.apache.org/api/python/gluon/data.html?highlight=dataload#mxnet.gluon.data.DataLoader)  \n",
    "\n",
    "* Sequential  \n",
    "[https://mxnet.incubator.apache.org/api/python/gluon/gluon.html?highlight=gluon.nn.sequential#mxnet.gluon.nn.Sequential](https://mxnet.incubator.apache.org/api/python/gluon/gluon.html?highlight=gluon.nn.sequential#mxnet.gluon.nn.Sequential)  \n",
    "\n",
    "* L2Loss  \n",
    "[https://mxnet.incubator.apache.org/api/python/gluon/loss.html?highlight=l2loss#mxnet.gluon.loss.L2Loss](https://mxnet.incubator.apache.org/api/python/gluon/loss.html?highlight=l2loss#mxnet.gluon.loss.L2Loss)  \n",
    "\n",
    "* Trainer  \n",
    "[https://mxnet.incubator.apache.org/api/python/gluon/gluon.html?highlight=trainer#mxnet.gluon.Trainer](https://mxnet.incubator.apache.org/api/python/gluon/gluon.html?highlight=trainer#mxnet.gluon.Trainer)  "
   ]
  }
 ],
 "metadata": {
  "kernelspec": {
   "display_name": "Python 2",
   "language": "python",
   "name": "python2"
  },
  "language_info": {
   "codemirror_mode": {
    "name": "ipython",
    "version": 2
   },
   "file_extension": ".py",
   "mimetype": "text/x-python",
   "name": "python",
   "nbconvert_exporter": "python",
   "pygments_lexer": "ipython2",
   "version": "2.7.13"
  }
 },
 "nbformat": 4,
 "nbformat_minor": 2
}
