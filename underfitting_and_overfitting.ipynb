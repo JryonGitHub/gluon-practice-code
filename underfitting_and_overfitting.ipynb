{
 "cells": [
  {
   "cell_type": "markdown",
   "metadata": {},
   "source": [
    "# 欠拟合和过拟合\n",
    "\n",
    "### 训练误差和泛化误差\n",
    "\n",
    "机器学习模型在训练数据集上表现出的误差叫做训练误差，在任意一个测试数据样本上表现出的误差的期望值叫做泛化误差。\n",
    "\n",
    "统计学习理论的一个假设是：训练数据集和测试数据集里的每一个数据样本都是从同一个概率分布中相互独立地生成出的（独立同分布假设）。\n",
    "\n",
    "一个重要结论是：训练误差的降低不一定意味着泛化误差的降低。机器学习既需要降低训练误差，又需要降低泛化误差。\n",
    "\n",
    "### 欠拟合和过拟合\n",
    "\n",
    "* 欠拟合：机器学习模型无法得到较低训练误差。\n",
    "* 过拟合：机器学习模型的训练误差远小于其在测试数据集上的误差。\n",
    "\n",
    "### 模型的选择\n",
    "\n",
    "模型拟合能力和误差之间的关系如下图：\n",
    "\n",
    "![](error_model_complexity.png)\n",
    "\n",
    "### 训练数据集的大小\n",
    "\n",
    "一般来说，如果训练数据集过小，特别是比模型参数数量更小时，过拟合更容易发生。除此之外，泛化误差不会随训练数据集里样本数量增加而增大。\n",
    "\n",
    "![](model_vs_data.png)\n",
    "\n",
    "### 多项式拟合\n",
    "\n",
    "给定一个**标量**数据点集合`x`和对应的标量目标值`y`，多项式拟合的目标是找一个K阶多项式，其由向量`w`和位移`b`组成，来最好地近似每个样本`x`和`y`。用数学符号来表示就是我们将学`w`和`b`来预测\n",
    "\n",
    "$$\\hat{y} = b + \\sum_{k=1}^K x^k w_k$$\n",
    "\n",
    "并以平方误差为损失函数，一阶多项式拟合又叫线性拟合。"
   ]
  },
  {
   "cell_type": "markdown",
   "metadata": {},
   "source": [
    "## 创建数据集\n",
    "\n",
    "使用二阶多项式来生成每一个数据样本，$y=1.2x−3.4x^2+5.6x^3+5.0+noise$，噪音服从均值0和标准差为0.1的正态分布。"
   ]
  },
  {
   "cell_type": "code",
   "execution_count": 1,
   "metadata": {
    "ExecuteTime": {
     "end_time": "2018-03-01T17:33:17.028557Z",
     "start_time": "2018-03-01T17:33:15.385651Z"
    },
    "collapsed": true
   },
   "outputs": [],
   "source": [
    "# 导入mxnet\n",
    "import mxnet as mx\n",
    "\n",
    "# 设置随机种子\n",
    "mx.random.seed(2)\n",
    "\n",
    "from mxnet import gluon\n",
    "from mxnet import ndarray as nd\n",
    "from mxnet import autograd"
   ]
  },
  {
   "cell_type": "code",
   "execution_count": 2,
   "metadata": {
    "ExecuteTime": {
     "end_time": "2018-03-01T17:33:59.973228Z",
     "start_time": "2018-03-01T17:33:59.968904Z"
    },
    "collapsed": true
   },
   "outputs": [],
   "source": [
    "# 训练数据数量\n",
    "num_train = 100\n",
    "# 测试数据数量\n",
    "num_test = 100\n",
    "# 多项式权重\n",
    "true_w = [1.2, -3.4, 5.6]\n",
    "# 多项式偏置\n",
    "true_b = 5.0"
   ]
  },
  {
   "cell_type": "code",
   "execution_count": 5,
   "metadata": {
    "ExecuteTime": {
     "end_time": "2018-03-01T18:21:35.938081Z",
     "start_time": "2018-03-01T18:21:35.929010Z"
    },
    "collapsed": false
   },
   "outputs": [
    {
     "name": "stdout",
     "output_type": "stream",
     "text": [
      "(200L,)\n"
     ]
    }
   ],
   "source": [
    "# 生成随机数据x\n",
    "x = nd.random.normal(shape=(num_train + num_test, 1))\n",
    "# 计算x的多项式值\n",
    "X = nd.concat(x, nd.power(x, 2), nd.power(x, 3))\n",
    "# 计算y\n",
    "y = true_w[0] * X[:, 0] + true_w[1] * X[:, 1] + true_w[2] * X[:, 2] + true_b\n",
    "# 查看数据\n",
    "('x:', x[:5], 'X:', X[:5], 'y:', y[:5])"
   ]
  },
  {
   "cell_type": "markdown",
   "metadata": {},
   "source": [
    "## 定义训练和测试步骤"
   ]
  },
  {
   "cell_type": "code",
   "execution_count": 6,
   "metadata": {
    "ExecuteTime": {
     "end_time": "2018-03-01T18:28:32.845015Z",
     "start_time": "2018-03-01T18:28:32.448145Z"
    },
    "collapsed": true
   },
   "outputs": [],
   "source": [
    "%matplotlib inline\n",
    "import matplotlib as mpl\n",
    "mpl.rcParams['figure.dpi']= 120\n",
    "import matplotlib.pyplot as plt\n",
    "\n",
    "# 定义训练过程\n",
    "def train(X_train, X_test, y_train, y_test):\n",
    "    # 定义线性回归模型\n",
    "    net = gluon.nn.Sequential()\n",
    "    with net.name_scope():\n",
    "        net.add(gluon.nn.Dense(1))\n",
    "    # 权重初始化\n",
    "    net.initialize()\n",
    "    # 学习率\n",
    "    learning_rate = 0.01\n",
    "    # 迭代周期\n",
    "    epochs = 100\n",
    "    # 训练的批数据大小\n",
    "    batch_size = min(10, y_train.shape[0])\n",
    "    # 创建训练数据集\n",
    "    dataset_train = gluon.data.ArrayDataset(X_train, y_train)\n",
    "    # 读取数据\n",
    "    data_iter_train = gluon.data.DataLoader(dataset_train, batch_size, shuffle=True)\n",
    "    # 训练方法SGD\n",
    "    trainer = gluon.Trainer(net.collect_params(), 'sgd', {'learning_rate': learning_rate})\n",
    "    # 定义损失函数\n",
    "    square_loss = gluon.loss.L2Loss()\n",
    "    # 训练损失\n",
    "    train_loss = []\n",
    "    # 测试损失\n",
    "    test_loss = []\n",
    "    # 进行训练\n",
    "    for e in range(epochs):\n",
    "        for data, label in data_iter_train:\n",
    "            with autograd.record():\n",
    "                # 进行预测\n",
    "                output = net(data)\n",
    "                # 计算预测值与实际值之间的损失\n",
    "                loss = square_loss(output, label)\n",
    "            # 损失进行反向传播\n",
    "            loss.backward()\n",
    "            # 更新权重\n",
    "            trainer.step(batch_size)\n",
    "        # 保存训练损失\n",
    "        train_loss.append(square_loss(net(X_train), y_train).mean().asscalar())\n",
    "        # 保存测试损失\n",
    "        test_loss.append(square_loss(net(X_test), y_test).mean().asscalar())\n",
    "    # 绘制损失\n",
    "    plt.plot(train_loss)\n",
    "    plt.plot(test_loss)\n",
    "    plt.legend(['train','test'])\n",
    "    plt.show()\n",
    "    return ('learned weight', net[0].weight.data(), 'learned bias', net[0].bias.data())"
   ]
  },
  {
   "cell_type": "markdown",
   "metadata": {},
   "source": [
    "## 三阶多项式拟合（正常）"
   ]
  },
  {
   "cell_type": "code",
   "execution_count": 7,
   "metadata": {
    "ExecuteTime": {
     "end_time": "2018-03-01T18:43:19.294726Z",
     "start_time": "2018-03-01T18:43:17.940748Z"
    },
    "collapsed": false
   },
   "outputs": [
    {
     "data": {
      "image/png": "[encoded data removed]",
      "text/plain": [
       "<matplotlib.figure.Figure at 0x11c356390>"
      ]
     },
     "metadata": {},
     "output_type": "display_data"
    },
    {
     "data": {
      "text/plain": [
       "('learned weight', \n",
       " [[ 1.22117233 -3.39606118  5.59531116]]\n",
       " <NDArray 1x3 @cpu(0)>, 'learned bias', \n",
       " [ 4.98550272]\n",
       " <NDArray 1 @cpu(0)>)"
      ]
     },
     "execution_count": 7,
     "metadata": {},
     "output_type": "execute_result"
    }
   ],
   "source": [
    "train(X[:num_train, :], X[num_train:, :], y[:num_train], y[num_train:])"
   ]
  },
  {
   "cell_type": "markdown",
   "metadata": {
    "ExecuteTime": {
     "end_time": "2018-03-01T18:44:02.470501Z",
     "start_time": "2018-03-01T18:44:02.466868Z"
    }
   },
   "source": [
    "## 线性拟合（欠拟合）"
   ]
  },
  {
   "cell_type": "code",
   "execution_count": 9,
   "metadata": {
    "ExecuteTime": {
     "end_time": "2018-03-01T18:44:09.933157Z",
     "start_time": "2018-03-01T18:44:08.611168Z"
    },
    "collapsed": false
   },
   "outputs": [
    {
     "data": {
      "image/png": "[encoded data removed]",
      "text/plain": [
       "<matplotlib.figure.Figure at 0x11c720e50>"
      ]
     },
     "metadata": {},
     "output_type": "display_data"
    },
    {
     "data": {
      "text/plain": [
       "('learned weight', \n",
       " [[ 19.74101448]]\n",
       " <NDArray 1x1 @cpu(0)>, 'learned bias', \n",
       " [-0.23861444]\n",
       " <NDArray 1 @cpu(0)>)"
      ]
     },
     "execution_count": 9,
     "metadata": {},
     "output_type": "execute_result"
    }
   ],
   "source": [
    "train(x[:num_train, :], x[num_train:, :], y[:num_train], y[num_train:])"
   ]
  },
  {
   "cell_type": "markdown",
   "metadata": {},
   "source": [
    "## 训练量不足（过拟合）"
   ]
  },
  {
   "cell_type": "code",
   "execution_count": 10,
   "metadata": {
    "ExecuteTime": {
     "end_time": "2018-03-01T18:45:12.047286Z",
     "start_time": "2018-03-01T18:45:11.678349Z"
    },
    "collapsed": false
   },
   "outputs": [
    {
     "data": {
      "image/png": "[encoded data removed]",
      "text/plain": [
       "<matplotlib.figure.Figure at 0x11c976e50>"
      ]
     },
     "metadata": {},
     "output_type": "display_data"
    },
    {
     "data": {
      "text/plain": [
       "('learned weight', \n",
       " [[ 3.10832024 -0.740421    4.85165691]]\n",
       " <NDArray 1x3 @cpu(0)>, 'learned bias', \n",
       " [ 0.29450524]\n",
       " <NDArray 1 @cpu(0)>)"
      ]
     },
     "execution_count": 10,
     "metadata": {},
     "output_type": "execute_result"
    }
   ],
   "source": [
    "train(X[0:2, :], X[num_train:, :], y[0:2], y[num_train:])"
   ]
  },
  {
   "cell_type": "markdown",
   "metadata": {
    "ExecuteTime": {
     "end_time": "2018-03-01T18:46:49.991281Z",
     "start_time": "2018-03-01T18:46:49.988211Z"
    }
   },
   "source": [
    "## 结论\n",
    "\n",
    "* 训练误差的降低并不一定意味着泛化误差的降低。\n",
    "* 欠拟合和过拟合都是需要尽量避免的。我们要注意模型的选择和训练量的大小。"
   ]
  }
 ],
 "metadata": {
  "kernelspec": {
   "display_name": "Python 2",
   "language": "python",
   "name": "python2"
  },
  "language_info": {
   "codemirror_mode": {
    "name": "ipython",
    "version": 2
   },
   "file_extension": ".py",
   "mimetype": "text/x-python",
   "name": "python",
   "nbconvert_exporter": "python",
   "pygments_lexer": "ipython2",
   "version": "2.7.13"
  }
 },
 "nbformat": 4,
 "nbformat_minor": 2
}
