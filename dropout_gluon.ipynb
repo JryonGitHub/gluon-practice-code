{
 "cells": [
  {
   "cell_type": "code",
   "execution_count": 1,
   "metadata": {
    "ExecuteTime": {
     "end_time": "2018-03-15T18:52:39.576686Z",
     "start_time": "2018-03-15T18:52:38.319857Z"
    },
    "collapsed": true
   },
   "outputs": [],
   "source": [
    "import mxnet as mx\n",
    "from mxnet import nd\n",
    "from mxnet import gluon\n",
    "from mxnet import autograd\n",
    "from mxnet.gluon import nn\n",
    "from utils import load_data_fashion_mnist, accuracy, evaluate_accuracy"
   ]
  },
  {
   "cell_type": "markdown",
   "metadata": {},
   "source": [
    "## 定义模型并添加丢弃层"
   ]
  },
  {
   "cell_type": "code",
   "execution_count": 2,
   "metadata": {
    "ExecuteTime": {
     "end_time": "2018-03-15T18:52:39.590819Z",
     "start_time": "2018-03-15T18:52:39.578488Z"
    },
    "collapsed": true
   },
   "outputs": [],
   "source": [
    "# 定义模型\n",
    "net = nn.Sequential()\n",
    "# 丢弃概率\n",
    "drop_prob1 = 0.2\n",
    "drop_prob2 = 0.5\n",
    "\n",
    "# 添加层\n",
    "with net.name_scope():\n",
    "    # 将输入数据展开\n",
    "    net.add(nn.Flatten())\n",
    "    # 第一个全连接层\n",
    "    net.add(nn.Dense(256, activation=\"relu\"))\n",
    "    # 添加丢弃层\n",
    "    net.add(nn.Dropout(drop_prob1))\n",
    "    # 第二个全连接层\n",
    "    net.add(nn.Dense(256, activation=\"relu\"))\n",
    "    # 添加丢弃层\n",
    "    net.add(nn.Dropout(drop_prob2))\n",
    "    # 定义输出层\n",
    "    net.add(nn.Dense(10))\n",
    "\n",
    "# 初始化模型参数\n",
    "net.initialize()"
   ]
  },
  {
   "cell_type": "markdown",
   "metadata": {},
   "source": [
    "## 读取数据并训练"
   ]
  },
  {
   "cell_type": "code",
   "execution_count": 3,
   "metadata": {
    "ExecuteTime": {
     "end_time": "2018-03-15T18:52:54.018617Z",
     "start_time": "2018-03-15T18:52:39.592581Z"
    },
    "collapsed": false
   },
   "outputs": [
    {
     "name": "stdout",
     "output_type": "stream",
     "text": [
      "Epoch 0. Loss: 0.817475, Train acc 0.697349, Test acc 0.778145\n",
      "Epoch 1. Loss: 0.515098, Train acc 0.810831, Test acc 0.847456\n",
      "Epoch 2. Loss: 0.458402, Train acc 0.833450, Test acc 0.823918\n",
      "Epoch 3. Loss: 0.419452, Train acc 0.846554, Test acc 0.862079\n",
      "Epoch 4. Loss: 0.396483, Train acc 0.854067, Test acc 0.874499\n"
     ]
    }
   ],
   "source": [
    "# 批数据大小\n",
    "batch_size = 256\n",
    "\n",
    "# 加载数据\n",
    "train_data, test_data = load_data_fashion_mnist(batch_size)\n",
    "\n",
    "# 优化\n",
    "trainer = gluon.Trainer(net.collect_params(), 'sgd', {'learning_rate': 0.5})\n",
    "\n",
    "# 定义交叉熵损失\n",
    "softmax_cross_entropy = gluon.loss.SoftmaxCrossEntropyLoss()\n",
    "\n",
    "# 训练\n",
    "for epoch in range(5):\n",
    "    # 训练损失\n",
    "    train_loss = 0.0\n",
    "    # 训练准确率\n",
    "    train_acc = 0.0\n",
    "    # 迭代训练\n",
    "    for data, label in train_data:\n",
    "        with autograd.record():\n",
    "            # 计算输出\n",
    "            output = net(data)\n",
    "            # 计算损失\n",
    "            loss = softmax_cross_entropy(output, label)\n",
    "        # 梯度反向传播\n",
    "        loss.backward()\n",
    "        # 更新梯度\n",
    "        trainer.step(batch_size)\n",
    "        # 记录训练损失\n",
    "        train_loss += nd.mean(loss).asscalar()\n",
    "        # 记录训练准确率\n",
    "        train_acc += accuracy(output, label)\n",
    "    # 计算测试准确率\n",
    "    test_acc = evaluate_accuracy(test_data, net)\n",
    "    print(\"Epoch %d. Loss: %f, Train acc %f, Test acc %f\" % (epoch, train_loss / len(train_data), train_acc / len(train_data), test_acc))"
   ]
  }
 ],
 "metadata": {
  "kernelspec": {
   "display_name": "Python 2",
   "language": "python",
   "name": "python2"
  },
  "language_info": {
   "codemirror_mode": {
    "name": "ipython",
    "version": 2
   },
   "file_extension": ".py",
   "mimetype": "text/x-python",
   "name": "python",
   "nbconvert_exporter": "python",
   "pygments_lexer": "ipython2",
   "version": "2.7.13"
  }
 },
 "nbformat": 4,
 "nbformat_minor": 2
}
