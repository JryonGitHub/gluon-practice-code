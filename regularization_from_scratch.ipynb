{
 "cells": [
  {
   "cell_type": "markdown",
   "metadata": {},
   "source": [
    "## 高维线性回归\n",
    "\n",
    "使用线性函数$y = 0.05 + \\sum_{i = 1}^p 0.01x_i +  \\text{noise}$生成数据样本，噪音服从均值0和标准差为0.01的正态分布。"
   ]
  },
  {
   "cell_type": "code",
   "execution_count": 1,
   "metadata": {
    "ExecuteTime": {
     "end_time": "2018-03-08T19:07:59.135941Z",
     "start_time": "2018-03-08T19:07:58.166912Z"
    },
    "collapsed": true
   },
   "outputs": [],
   "source": [
    "# 导入mxnet\n",
    "import random\n",
    "import mxnet as mx\n",
    "\n",
    "# 设置随机种子\n",
    "random.seed(2)\n",
    "mx.random.seed(2)\n",
    "\n",
    "from mxnet import gluon\n",
    "from mxnet import ndarray as nd\n",
    "from mxnet import autograd"
   ]
  },
  {
   "cell_type": "markdown",
   "metadata": {},
   "source": [
    "## 生成数据集"
   ]
  },
  {
   "cell_type": "code",
   "execution_count": 2,
   "metadata": {
    "ExecuteTime": {
     "end_time": "2018-03-08T19:07:59.143688Z",
     "start_time": "2018-03-08T19:07:59.137902Z"
    },
    "collapsed": true
   },
   "outputs": [],
   "source": [
    "# 训练数据数量\n",
    "num_train = 20\n",
    "\n",
    "# 测试数据数量\n",
    "num_test = 100\n",
    "\n",
    "# 输入数据特征维度\n",
    "num_inputs = 200\n",
    "\n",
    "# 实际权重\n",
    "true_w = nd.ones((num_inputs, 1)) * 0.01\n",
    "\n",
    "# 实际偏置\n",
    "true_b = 0.05"
   ]
  },
  {
   "cell_type": "code",
   "execution_count": 3,
   "metadata": {
    "ExecuteTime": {
     "end_time": "2018-03-08T19:07:59.152808Z",
     "start_time": "2018-03-08T19:07:59.146220Z"
    },
    "collapsed": true
   },
   "outputs": [],
   "source": [
    "# 生成数据\n",
    "X = nd.random_normal(shape=(num_train + num_test, num_inputs))\n",
    "y = nd.dot(X, true_w) + true_b\n",
    "\n",
    "# 添加随机噪声\n",
    "y += 0.01 * nd.random_normal(shape=y.shape)\n",
    "\n",
    "# 训练数据和测试数据\n",
    "X_train, X_test = X[:num_train, :], X[num_train:, :]\n",
    "y_train, y_test = y[:num_train], y[num_train:]"
   ]
  },
  {
   "cell_type": "code",
   "execution_count": 4,
   "metadata": {
    "ExecuteTime": {
     "end_time": "2018-03-08T19:07:59.161134Z",
     "start_time": "2018-03-08T19:07:59.154329Z"
    },
    "collapsed": true
   },
   "outputs": [],
   "source": [
    "# 批数据大小\n",
    "batch_size = 1\n",
    "\n",
    "# 通过yield进行数据读取\n",
    "def data_iter(num_examples):\n",
    "    # 产生样本的索引\n",
    "    idx = list(range(num_examples))\n",
    "    # 将索引随机打乱\n",
    "    random.shuffle(idx)\n",
    "    # 迭代一个epoch\n",
    "    for i in range(0, num_examples, batch_size):\n",
    "        # 依次取出样本的索引, 这种实现方式在num_examples/batch_size不能整除时也适用\n",
    "        j = nd.array(idx[i:min((i + batch_size), num_examples)])\n",
    "        # 根据提供的索引取元素\n",
    "        yield nd.take(X, j), nd.take(y, j)"
   ]
  },
  {
   "cell_type": "markdown",
   "metadata": {},
   "source": [
    "## 初始化模型参数"
   ]
  },
  {
   "cell_type": "code",
   "execution_count": 5,
   "metadata": {
    "ExecuteTime": {
     "end_time": "2018-03-08T19:07:59.168063Z",
     "start_time": "2018-03-08T19:07:59.162812Z"
    },
    "collapsed": true
   },
   "outputs": [],
   "source": [
    "def init_params():\n",
    "    # 随机初始化权重w\n",
    "    w = nd.random_normal(shape=(num_inputs, 1))\n",
    "    # 偏置b初始化为0\n",
    "    b = nd.zeros((1,))\n",
    "    # w, b放入list里\n",
    "    params = [w, b]\n",
    "\n",
    "    # 需要计算反向传播, 添加自动求导\n",
    "    for param in params:\n",
    "        param.attach_grad()\n",
    "    return params"
   ]
  },
  {
   "cell_type": "markdown",
   "metadata": {},
   "source": [
    "## $L_2$ 范数正则化\n",
    "\n",
    "在训练时最小化函数为：$\\text{loss} + \\lambda \\sum_{p \\in \\textrm{params}}\\|p\\|_2^2。$"
   ]
  },
  {
   "cell_type": "code",
   "execution_count": 6,
   "metadata": {
    "ExecuteTime": {
     "end_time": "2018-03-08T19:07:59.172969Z",
     "start_time": "2018-03-08T19:07:59.169671Z"
    },
    "collapsed": true
   },
   "outputs": [],
   "source": [
    "# L2范数\n",
    "def L2_penalty(w, b):\n",
    "    return ((w**2).sum() + b ** 2) / 2"
   ]
  },
  {
   "cell_type": "markdown",
   "metadata": {},
   "source": [
    "## 定义训练和测试"
   ]
  },
  {
   "cell_type": "code",
   "execution_count": 7,
   "metadata": {
    "ExecuteTime": {
     "end_time": "2018-03-08T19:07:59.436628Z",
     "start_time": "2018-03-08T19:07:59.174882Z"
    },
    "collapsed": false
   },
   "outputs": [],
   "source": [
    "%matplotlib inline\n",
    "import matplotlib as mpl\n",
    "mpl.rcParams['figure.dpi']= 120\n",
    "import matplotlib.pyplot as plt\n",
    "import numpy as np\n",
    "\n",
    "\n",
    "# 定义网络\n",
    "def net(X, w, b):\n",
    "    return nd.dot(X, w) + b\n",
    "\n",
    "# 损失函数\n",
    "def square_loss(yhat, y):\n",
    "    return (yhat - y.reshape(yhat.shape)) ** 2 / 2\n",
    "\n",
    "# 梯度下降\n",
    "def sgd(params, lr, batch_size):\n",
    "    for param in params:\n",
    "        param[:] = param - lr * param.grad / batch_size\n",
    "\n",
    "# 测试\n",
    "def test(net, params, X, y):\n",
    "    return square_loss(net(X, *params), y).mean().asscalar()\n",
    "\n",
    "# 训练\n",
    "def train(_lambda):\n",
    "    # 定义训练的迭代周期\n",
    "    epochs = 10\n",
    "    # 定义学习率\n",
    "    learning_rate = 0.005\n",
    "    # 初始化参数\n",
    "    w, b = params = init_params()\n",
    "    # 训练损失\n",
    "    train_loss = []\n",
    "    # 测试损失\n",
    "    test_loss = []\n",
    "    for epoch in range(epochs):\n",
    "        for data, label in data_iter(num_train):\n",
    "            # 记录梯度\n",
    "            with autograd.record():\n",
    "                 # 计算预测值\n",
    "                output = net(data, *params)\n",
    "                # 计算loss\n",
    "                loss = square_loss(output, label) + _lambda * L2_penalty(*params)\n",
    "            # 反向传播\n",
    "            loss.backward()\n",
    "            # 更新梯度\n",
    "            sgd(params, learning_rate, batch_size)\n",
    "            # 训练损失\n",
    "            train_loss.append(test(net, params, X_train, y_train))\n",
    "            # 测试损失\n",
    "            test_loss.append(test(net, params, X_test, y_test))\n",
    "            \n",
    "    # 绘制损失图像\n",
    "    plt.plot(train_loss)\n",
    "    plt.plot(test_loss)\n",
    "    plt.legend(['train', 'test'])\n",
    "    plt.show()\n",
    "    return 'learned w[:10]:', w[:10].T, 'learned b:', b"
   ]
  },
  {
   "cell_type": "markdown",
   "metadata": {},
   "source": [
    "# 观察过拟合"
   ]
  },
  {
   "cell_type": "code",
   "execution_count": 8,
   "metadata": {
    "ExecuteTime": {
     "end_time": "2018-03-08T19:08:00.050410Z",
     "start_time": "2018-03-08T19:07:59.438408Z"
    },
    "collapsed": false
   },
   "outputs": [
    {
     "data": {
      "image/png": "[encoded data removed]",
      "text/plain": [
       "<matplotlib.figure.Figure at 0x118961f50>"
      ]
     },
     "metadata": {},
     "output_type": "display_data"
    },
    {
     "data": {
      "text/plain": [
       "('learned w[:10]:', \n",
       " [[ 1.04817176 -0.02568593  0.86764956  0.29322267  0.01006179 -0.56152576\n",
       "    0.38436398 -0.30840367 -2.32450151  0.03733355]]\n",
       " <NDArray 1x10 @cpu(0)>, 'learned b:', \n",
       " [ 0.79914856]\n",
       " <NDArray 1 @cpu(0)>)"
      ]
     },
     "execution_count": 8,
     "metadata": {},
     "output_type": "execute_result"
    }
   ],
   "source": [
    "train(0)"
   ]
  },
  {
   "cell_type": "markdown",
   "metadata": {},
   "source": [
    "## 使用正则化"
   ]
  },
  {
   "cell_type": "code",
   "execution_count": 9,
   "metadata": {
    "ExecuteTime": {
     "end_time": "2018-03-08T19:08:00.683766Z",
     "start_time": "2018-03-08T19:08:00.052185Z"
    },
    "collapsed": false
   },
   "outputs": [
    {
     "data": {
      "image/png": "[encoded data removed]",
      "text/plain": [
       "<matplotlib.figure.Figure at 0x119d18590>"
      ]
     },
     "metadata": {},
     "output_type": "display_data"
    },
    {
     "data": {
      "text/plain": [
       "('learned w[:10]:', \n",
       " [[ 0.00107633 -0.00052574  0.00450233 -0.00110545 -0.0068391  -0.00181657\n",
       "   -0.00530632  0.00512845 -0.00742549 -0.00058495]]\n",
       " <NDArray 1x10 @cpu(0)>, 'learned b:', \n",
       " [ 0.00449432]\n",
       " <NDArray 1 @cpu(0)>)"
      ]
     },
     "execution_count": 9,
     "metadata": {},
     "output_type": "execute_result"
    }
   ],
   "source": [
    "train(5)"
   ]
  }
 ],
 "metadata": {
  "kernelspec": {
   "display_name": "Python 2",
   "language": "python",
   "name": "python2"
  },
  "language_info": {
   "codemirror_mode": {
    "name": "ipython",
    "version": 2
   },
   "file_extension": ".py",
   "mimetype": "text/x-python",
   "name": "python",
   "nbconvert_exporter": "python",
   "pygments_lexer": "ipython2",
   "version": "2.7.13"
  }
 },
 "nbformat": 4,
 "nbformat_minor": 2
}
