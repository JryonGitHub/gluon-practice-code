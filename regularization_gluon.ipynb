{
 "cells": [
  {
   "cell_type": "markdown",
   "metadata": {},
   "source": [
    "## 高维线性回归数据集"
   ]
  },
  {
   "cell_type": "code",
   "execution_count": 1,
   "metadata": {
    "ExecuteTime": {
     "end_time": "2018-03-09T17:58:23.343726Z",
     "start_time": "2018-03-09T17:58:22.330109Z"
    },
    "collapsed": true
   },
   "outputs": [],
   "source": [
    "# 导入mxnet\n",
    "import random\n",
    "import mxnet as mx\n",
    "\n",
    "# 设置随机种子\n",
    "random.seed(2)\n",
    "mx.random.seed(2)\n",
    "\n",
    "from mxnet import gluon\n",
    "from mxnet import ndarray as nd\n",
    "from mxnet import autograd\n",
    "\n",
    "\n",
    "# 训练数据数量\n",
    "num_train = 20\n",
    "\n",
    "# 测试数据数量\n",
    "num_test = 100\n",
    "\n",
    "# 输入数据特征维度\n",
    "num_inputs = 200\n",
    "\n",
    "# 实际权重\n",
    "true_w = nd.ones((num_inputs, 1)) * 0.01\n",
    "\n",
    "# 实际偏置\n",
    "true_b = 0.05\n",
    "\n",
    "# 生成数据\n",
    "X = nd.random_normal(shape=(num_train + num_test, num_inputs))\n",
    "y = nd.dot(X, true_w) + true_b\n",
    "\n",
    "# 添加随机噪声\n",
    "y += 0.01 * nd.random_normal(shape=y.shape)\n",
    "\n",
    "# 训练数据和测试数据\n",
    "X_train, X_test = X[:num_train, :], X[num_train:, :]\n",
    "y_train, y_test = y[:num_train], y[num_train:]"
   ]
  },
  {
   "cell_type": "markdown",
   "metadata": {},
   "source": [
    "## 定义训练和测试"
   ]
  },
  {
   "cell_type": "code",
   "execution_count": 2,
   "metadata": {
    "ExecuteTime": {
     "end_time": "2018-03-09T17:58:23.606426Z",
     "start_time": "2018-03-09T17:58:23.345665Z"
    },
    "collapsed": true
   },
   "outputs": [],
   "source": [
    "%matplotlib inline\n",
    "import matplotlib as mpl\n",
    "mpl.rcParams['figure.dpi']= 120\n",
    "import matplotlib.pyplot as plt\n",
    "import numpy as np\n",
    "\n",
    "# 批数据大小\n",
    "batch_size = 1\n",
    "\n",
    "# 创建数据集\n",
    "dataset_train = gluon.data.ArrayDataset(X_train, y_train)\n",
    "\n",
    "# 读取数据\n",
    "data_iter = gluon.data.DataLoader(dataset_train, batch_size, shuffle=True)\n",
    "\n",
    "# 损失函数\n",
    "square_loss = gluon.loss.L2Loss()\n",
    "\n",
    "# 测试\n",
    "def test(net, X, y):\n",
    "    return square_loss(net(X), y).mean().asscalar()\n",
    "\n",
    "# 训练\n",
    "def train(weight_decay):\n",
    "    # 定义训练的迭代周期\n",
    "    epochs = 10\n",
    "    # 定义学习率\n",
    "    learning_rate = 0.005\n",
    "    # 定义网络\n",
    "    net = gluon.nn.Sequential()\n",
    "    with net.name_scope():\n",
    "        net.add(gluon.nn.Dense(1))\n",
    "    #net.collect_params().initialize(mx.init.Normal(sigma=1))\n",
    "    # 初始化网络参数\n",
    "    net.initialize(mx.init.Normal(sigma=1))\n",
    "    # SGD训练, 使用权重衰减代替L2正则化\n",
    "    trainer = gluon.Trainer(net.collect_params(), 'sgd', {'learning_rate': learning_rate, 'wd': weight_decay})\n",
    "    # 训练损失\n",
    "    train_loss = []\n",
    "    # 测试损失\n",
    "    test_loss = []\n",
    "    for epoch in range(epochs):\n",
    "        for data, label in data_iter:\n",
    "            # 记录梯度\n",
    "            with autograd.record():\n",
    "                # 计算预测值\n",
    "                output = net(data)\n",
    "                # 计算损失\n",
    "                loss = square_loss(output, label)\n",
    "            # 反向传播\n",
    "            loss.backward()\n",
    "            # 更新权重\n",
    "            trainer.step(batch_size)\n",
    "            # 训练损失\n",
    "            train_loss.append(test(net, X_train, y_train))\n",
    "            # 测试损失\n",
    "            test_loss.append(test(net, X_test, y_test))\n",
    "    # 绘制图像\n",
    "    plt.plot(train_loss)\n",
    "    plt.plot(test_loss)\n",
    "    plt.legend(['train','test'])\n",
    "    plt.show()\n",
    "    return ('learned w[:10]:', net[0].weight.data()[:,:10], '\\nlearned b:', net[0].bias.data())"
   ]
  },
  {
   "cell_type": "markdown",
   "metadata": {},
   "source": [
    "## 训练模型并观察过拟合"
   ]
  },
  {
   "cell_type": "code",
   "execution_count": 3,
   "metadata": {
    "ExecuteTime": {
     "end_time": "2018-03-09T17:58:24.118988Z",
     "start_time": "2018-03-09T17:58:23.608613Z"
    },
    "collapsed": false
   },
   "outputs": [
    {
     "data": {
      "image/png": "[encoded data removed]",
      "text/plain": [
       "<matplotlib.figure.Figure at 0x118722d50>"
      ]
     },
     "metadata": {},
     "output_type": "display_data"
    },
    {
     "data": {
      "text/plain": [
       "('learned w[:10]:', \n",
       " [[ 1.04817235 -0.02568591  0.86764944  0.29322273  0.01006198 -0.56152564\n",
       "    0.38436413 -0.3084037  -2.32450151  0.03733355]]\n",
       " <NDArray 1x10 @cpu(0)>, '\\nlearned b:', \n",
       " [ 0.79914868]\n",
       " <NDArray 1 @cpu(0)>)"
      ]
     },
     "execution_count": 3,
     "metadata": {},
     "output_type": "execute_result"
    }
   ],
   "source": [
    "train(0)"
   ]
  },
  {
   "cell_type": "markdown",
   "metadata": {},
   "source": [
    "## 使用Gluon的正则化"
   ]
  },
  {
   "cell_type": "code",
   "execution_count": 4,
   "metadata": {
    "ExecuteTime": {
     "end_time": "2018-03-09T17:58:24.653507Z",
     "start_time": "2018-03-09T17:58:24.120722Z"
    },
    "collapsed": false
   },
   "outputs": [
    {
     "data": {
      "image/png": "[encoded data removed]",
      "text/plain": [
       "<matplotlib.figure.Figure at 0x1188a8cd0>"
      ]
     },
     "metadata": {},
     "output_type": "display_data"
    },
    {
     "data": {
      "text/plain": [
       "('learned w[:10]:', \n",
       " [[ 0.00107634 -0.00052574  0.00450234 -0.00110544 -0.00683913 -0.00181657\n",
       "   -0.00530634  0.00512847 -0.00742552 -0.00058494]]\n",
       " <NDArray 1x10 @cpu(0)>, '\\nlearned b:', \n",
       " [ 0.00449433]\n",
       " <NDArray 1 @cpu(0)>)"
      ]
     },
     "execution_count": 4,
     "metadata": {},
     "output_type": "execute_result"
    }
   ],
   "source": [
    "train(5)"
   ]
  },
  {
   "cell_type": "markdown",
   "metadata": {
    "ExecuteTime": {
     "end_time": "2018-03-09T18:02:11.051312Z",
     "start_time": "2018-03-09T18:02:11.048104Z"
    }
   },
   "source": [
    "## 可用权重衰减代替L2正则化的原因  \n",
    "\n",
    "![推导](https://discuss.gluon.ai/uploads/default/optimized/2X/e/e95646511afc71bf614ba6abdb99bd056ee79ea9_1_690x438.png)\n",
    "\n",
    "注：图片来自Gluon社区。"
   ]
  }
 ],
 "metadata": {
  "kernelspec": {
   "display_name": "Python 2",
   "language": "python",
   "name": "python2"
  },
  "language_info": {
   "codemirror_mode": {
    "name": "ipython",
    "version": 2
   },
   "file_extension": ".py",
   "mimetype": "text/x-python",
   "name": "python",
   "nbconvert_exporter": "python",
   "pygments_lexer": "ipython2",
   "version": "2.7.13"
  }
 },
 "nbformat": 4,
 "nbformat_minor": 2
}
