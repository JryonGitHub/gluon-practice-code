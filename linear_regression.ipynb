{
 "cells": [
  {
   "cell_type": "markdown",
   "metadata": {},
   "source": [
    "## 参考资料\n",
    "\n",
    "* ndarray文档  \n",
    "[https://mxnet.incubator.apache.org/api/python/ndarray.html](https://mxnet.incubator.apache.org/api/python/ndarray.html)\n",
    "\n",
    "* yield用法  \n",
    "[https://www.ibm.com/developerworks/cn/opensource/os-cn-python-yield/](https://www.ibm.com/developerworks/cn/opensource/os-cn-python-yield/)"
   ]
  },
  {
   "cell_type": "code",
   "execution_count": 7,
   "metadata": {
    "ExecuteTime": {
     "end_time": "2018-01-25T18:07:55.754530Z",
     "start_time": "2018-01-25T18:07:55.745778Z"
    },
    "collapsed": false
   },
   "outputs": [],
   "source": [
    "# 导入mxnet的ndarray, autograd\n",
    "from mxnet import autograd\n",
    "from mxnet import ndarray as nd"
   ]
  },
  {
   "cell_type": "markdown",
   "metadata": {
    "ExecuteTime": {
     "end_time": "2018-01-25T18:09:27.673112Z",
     "start_time": "2018-01-25T18:09:27.669793Z"
    }
   },
   "source": [
    "## 创建数据集"
   ]
  },
  {
   "cell_type": "code",
   "execution_count": 23,
   "metadata": {
    "ExecuteTime": {
     "end_time": "2018-01-25T18:46:34.078489Z",
     "start_time": "2018-01-25T18:46:34.070082Z"
    },
    "collapsed": false
   },
   "outputs": [],
   "source": [
    "# 训练数据的维度\n",
    "num_inputs = 2\n",
    "\n",
    "# 训练数据的样本数量\n",
    "num_examples = 1000\n",
    "\n",
    "# 实际的权重w\n",
    "true_w = [2, -3.4]\n",
    "\n",
    "# 实际的偏置b\n",
    "true_b = 4.2\n",
    "\n",
    "# 随机生成均值为0, 方差为1, 服从正态分布的训练数据X, \n",
    "X = nd.random_normal(shape=(num_examples, num_inputs))\n",
    "\n",
    "# 根据X, w, b生成对应的输出y\n",
    "y = true_w[0] * X[:, 0] + true_w[1] * X[:, 1] + true_b \n",
    "\n",
    "# 给y加上随机噪声\n",
    "y = 0.01 * nd.random_normal(shape=y.shape)"
   ]
  },
  {
   "cell_type": "markdown",
   "metadata": {},
   "source": [
    "## 数据读取"
   ]
  },
  {
   "cell_type": "code",
   "execution_count": 16,
   "metadata": {
    "ExecuteTime": {
     "end_time": "2018-01-25T18:42:31.386736Z",
     "start_time": "2018-01-25T18:42:31.375738Z"
    },
    "collapsed": true
   },
   "outputs": [],
   "source": [
    "import random\n",
    "\n",
    "# 训练时的批数据大小\n",
    "batch_size = 10\n",
    "\n",
    "# 通过yield进行数据读取\n",
    "def data_iter():\n",
    "    # 产生样本的索引\n",
    "    idx = list(range(num_examples))\n",
    "    # 将索引随机打乱\n",
    "    random.shuffle(idx)\n",
    "    # 迭代一个epoch, xrange循环时效率比range更高\n",
    "    for i in xrange(0, num_examples, batch_size):\n",
    "        # 依次取出样本的索引, 这种实现方式在num_examples/batch_size不能整除时也适用\n",
    "        j = nd.array(idx[i:min((i + batch_size), num_examples)])\n",
    "        # 根据提供的索引取元素\n",
    "        yield nd.take(X, j), nd.take(y, j)"
   ]
  },
  {
   "cell_type": "code",
   "execution_count": 27,
   "metadata": {
    "ExecuteTime": {
     "end_time": "2018-01-25T19:01:42.826541Z",
     "start_time": "2018-01-25T19:01:42.817697Z"
    },
    "collapsed": false
   },
   "outputs": [
    {
     "name": "stdout",
     "output_type": "stream",
     "text": [
      "True\n",
      "True\n",
      "(\n",
      "[[-1.46144283 -2.03927684]\n",
      " [ 0.03402483 -0.03641445]\n",
      " [-0.47866404  0.10702948]\n",
      " [ 0.39163432 -0.997118  ]\n",
      " [ 0.32307819 -0.66136807]\n",
      " [ 2.21568346 -0.32404178]\n",
      " [ 0.09458331 -1.92368269]\n",
      " [-0.61783087 -0.58341485]\n",
      " [-0.53721207 -0.33021879]\n",
      " [-0.31719905  0.25661287]]\n",
      "<NDArray 10x2 @cpu(0)>, \n",
      "[-0.00857094 -0.01071989 -0.00500661  0.0048739   0.00531892 -0.00569082\n",
      " -0.00541457 -0.01004949 -0.01156097  0.01234144]\n",
      "<NDArray 10 @cpu(0)>)\n"
     ]
    }
   ],
   "source": [
    "# 查看data_iter是否是generator函数\n",
    "from inspect import isgeneratorfunction \n",
    "print isgeneratorfunction(data_iter)\n",
    "\n",
    "# data_iter类似于类的定义, 而data_iter()相当于一个类的实例, 当然是匿名实例\n",
    "import types \n",
    "print isinstance(data_iter(), types.GeneratorType)\n",
    "\n",
    "# 读取数据测试\n",
    "for data, label in data_iter():\n",
    "    print(data, label)\n",
    "    break"
   ]
  },
  {
   "cell_type": "markdown",
   "metadata": {},
   "source": [
    "## 初始化模型参数"
   ]
  },
  {
   "cell_type": "code",
   "execution_count": 28,
   "metadata": {
    "ExecuteTime": {
     "end_time": "2018-01-25T19:15:58.535259Z",
     "start_time": "2018-01-25T19:15:58.529466Z"
    },
    "collapsed": true
   },
   "outputs": [],
   "source": [
    "# 随机初始化权重w\n",
    "w = nd.random_normal(shape=(num_inputs, 1))\n",
    "# 偏置b初始化为0\n",
    "b = nd.zeros((1,))\n",
    "# w, b放入list里\n",
    "params = [w, b]\n",
    "\n",
    "# 需要计算反向传播, 添加自动求导\n",
    "for param in params:\n",
    "    param.attach_grad()"
   ]
  },
  {
   "cell_type": "markdown",
   "metadata": {},
   "source": [
    "## 定义模型"
   ]
  },
  {
   "cell_type": "code",
   "execution_count": null,
   "metadata": {
    "collapsed": true
   },
   "outputs": [],
   "source": [
    "# 定义运算y = w * x + b\n",
    "def net(X):\n",
    "    # 向量, 矩阵乘用dot\n",
    "    return nd.dot(X, w) + b"
   ]
  },
  {
   "cell_type": "markdown",
   "metadata": {},
   "source": [
    "## 损失函数"
   ]
  },
  {
   "cell_type": "code",
   "execution_count": 29,
   "metadata": {
    "ExecuteTime": {
     "end_time": "2018-01-25T19:19:53.444068Z",
     "start_time": "2018-01-25T19:19:53.440275Z"
    },
    "collapsed": true
   },
   "outputs": [],
   "source": [
    "# 定义平方损失\n",
    "def square_loss(yhat, y):\n",
    "    # 注意这里我们把y变形成yhat的形状来避免矩阵形状的自动转换\n",
    "    return (yhat - y.reshape(yhat.shape)) ** 2"
   ]
  },
  {
   "cell_type": "markdown",
   "metadata": {},
   "source": [
    "## 优化"
   ]
  },
  {
   "cell_type": "code",
   "execution_count": null,
   "metadata": {
    "collapsed": true
   },
   "outputs": [],
   "source": [
    "# 定义随机梯度下降法\n",
    "def SGD(params, lr):\n",
    "    # 对参数进行梯度下降\n",
    "    for param in params:\n",
    "        # 这样写不会创建新的param, 而是会写好原来的param里\n",
    "        param[:] = param - lr * param.grad"
   ]
  },
  {
   "cell_type": "code",
   "execution_count": null,
   "metadata": {
    "collapsed": true
   },
   "outputs": [],
   "source": []
  },
  {
   "cell_type": "code",
   "execution_count": null,
   "metadata": {
    "collapsed": true
   },
   "outputs": [],
   "source": []
  },
  {
   "cell_type": "code",
   "execution_count": null,
   "metadata": {
    "collapsed": true
   },
   "outputs": [],
   "source": [
    "# 使用sklearn的波士顿数据集\n",
    "from sklearn.datasets import load_boston"
   ]
  }
 ],
 "metadata": {
  "kernelspec": {
   "display_name": "Python 2",
   "language": "python",
   "name": "python2"
  },
  "language_info": {
   "codemirror_mode": {
    "name": "ipython",
    "version": 2
   },
   "file_extension": ".py",
   "mimetype": "text/x-python",
   "name": "python",
   "nbconvert_exporter": "python",
   "pygments_lexer": "ipython2",
   "version": "2.7.13"
  }
 },
 "nbformat": 4,
 "nbformat_minor": 2
}
