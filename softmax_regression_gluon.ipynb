{
 "cells": [
  {
   "cell_type": "code",
   "execution_count": 1,
   "metadata": {
    "ExecuteTime": {
     "end_time": "2018-02-22T17:52:39.407763Z",
     "start_time": "2018-02-22T17:52:38.395884Z"
    },
    "collapsed": true
   },
   "outputs": [],
   "source": [
    "# 导入mxnet\n",
    "import mxnet as mx\n",
    "\n",
    "# 设置随机种子\n",
    "mx.random.seed(2)\n",
    "\n",
    "from mxnet import gluon\n",
    "from mxnet import ndarray as nd\n",
    "from mxnet import autograd\n",
    "from mxnet import image"
   ]
  },
  {
   "cell_type": "markdown",
   "metadata": {},
   "source": [
    "## 辅助函数"
   ]
  },
  {
   "cell_type": "code",
   "execution_count": 2,
   "metadata": {
    "ExecuteTime": {
     "end_time": "2018-02-22T17:52:39.620736Z",
     "start_time": "2018-02-22T17:52:39.409482Z"
    },
    "collapsed": true
   },
   "outputs": [],
   "source": [
    "from utils import load_data_fashion_mnist, accuracy, evaluate_accuracy"
   ]
  },
  {
   "cell_type": "markdown",
   "metadata": {},
   "source": [
    "## 获取和读取数据"
   ]
  },
  {
   "cell_type": "code",
   "execution_count": 3,
   "metadata": {
    "ExecuteTime": {
     "end_time": "2018-02-22T17:52:40.626754Z",
     "start_time": "2018-02-22T17:52:39.622405Z"
    },
    "collapsed": false
   },
   "outputs": [],
   "source": [
    "# 批数据大小\n",
    "batch_size = 256\n",
    "\n",
    "# 获取训练数据和测试数据\n",
    "train_data, test_data = load_data_fashion_mnist(batch_size)"
   ]
  },
  {
   "cell_type": "markdown",
   "metadata": {},
   "source": [
    "## 定义和初始化模型"
   ]
  },
  {
   "cell_type": "code",
   "execution_count": 4,
   "metadata": {
    "ExecuteTime": {
     "end_time": "2018-02-22T17:52:40.635311Z",
     "start_time": "2018-02-22T17:52:40.628431Z"
    },
    "collapsed": false
   },
   "outputs": [],
   "source": [
    "# 定义一个空的模型\n",
    "net = gluon.nn.Sequential()\n",
    "\n",
    "# name_scope作用, 方便管理参数命名\n",
    "with net.name_scope():\n",
    "    # 加入一个平铺层, 其会将输入数据平铺为batch_size*?维\n",
    "    net.add(gluon.nn.Flatten())\n",
    "    # 加入一个全连接层, 输出为10类\n",
    "    net.add(gluon.nn.Dense(10))\n",
    "\n",
    "# 参数初始化\n",
    "net.initialize()"
   ]
  },
  {
   "cell_type": "markdown",
   "metadata": {},
   "source": [
    "## Softmax和交叉熵损失函数"
   ]
  },
  {
   "cell_type": "code",
   "execution_count": 5,
   "metadata": {
    "ExecuteTime": {
     "end_time": "2018-02-22T17:52:40.640735Z",
     "start_time": "2018-02-22T17:52:40.637242Z"
    },
    "collapsed": true
   },
   "outputs": [],
   "source": [
    "# 定义交叉熵损失\n",
    "softmax_cross_entropy = gluon.loss.SoftmaxCrossEntropyLoss()"
   ]
  },
  {
   "cell_type": "markdown",
   "metadata": {},
   "source": [
    "## 优化"
   ]
  },
  {
   "cell_type": "code",
   "execution_count": 6,
   "metadata": {
    "ExecuteTime": {
     "end_time": "2018-02-22T17:52:40.645888Z",
     "start_time": "2018-02-22T17:52:40.642635Z"
    },
    "collapsed": true
   },
   "outputs": [],
   "source": [
    "# 定义训练器和优化方法\n",
    "trainer = gluon.Trainer(net.collect_params(), 'sgd', {'learning_rate': 0.1})"
   ]
  },
  {
   "cell_type": "markdown",
   "metadata": {},
   "source": [
    "## 训练"
   ]
  },
  {
   "cell_type": "code",
   "execution_count": 7,
   "metadata": {
    "ExecuteTime": {
     "end_time": "2018-02-22T17:52:47.443043Z",
     "start_time": "2018-02-22T17:52:40.647739Z"
    },
    "collapsed": false
   },
   "outputs": [
    {
     "name": "stdout",
     "output_type": "stream",
     "text": [
      "Epoch 0. Loss: 0.793821, Train acc 0.744107, Test acc 0.786659\n",
      "Epoch 1. Loss: 0.575076, Train acc 0.809879, Test acc 0.820112\n",
      "Epoch 2. Loss: 0.530560, Train acc 0.822583, Test acc 0.831731\n",
      "Epoch 3. Loss: 0.506161, Train acc 0.829728, Test acc 0.835837\n",
      "Epoch 4. Loss: 0.488752, Train acc 0.834769, Test acc 0.834135\n"
     ]
    }
   ],
   "source": [
    "# 定义迭代周期\n",
    "epochs = 5\n",
    "\n",
    "# 训练\n",
    "for epoch in range(epochs):\n",
    "    # 训练损失\n",
    "    train_loss = 0.0\n",
    "    # 训练集准确率\n",
    "    train_acc = 0.0\n",
    "    # 迭代训练\n",
    "    for data, label in train_data:\n",
    "        # 记录梯度\n",
    "        with autograd.record():\n",
    "            # 计算输出\n",
    "            output = net(data)\n",
    "            # 计算损失\n",
    "            loss = softmax_cross_entropy(output, label)\n",
    "        # 反向传播求梯度\n",
    "        loss.backward()\n",
    "        # 梯度下降\n",
    "        trainer.step(batch_size)\n",
    "        # 总的训练损失\n",
    "        train_loss += nd.mean(loss).asscalar()\n",
    "        # 总的训练准确率\n",
    "        train_acc += accuracy(output, label)\n",
    "    \n",
    "    # 测试集的准确率\n",
    "    test_acc = evaluate_accuracy(test_data, net)\n",
    "    \n",
    "    print(\"Epoch %d. Loss: %f, Train acc %f, Test acc %f\" % (\n",
    "        epoch, train_loss / len(train_data), train_acc / len(train_data), test_acc))"
   ]
  }
 ],
 "metadata": {
  "kernelspec": {
   "display_name": "Python 2",
   "language": "python",
   "name": "python2"
  },
  "language_info": {
   "codemirror_mode": {
    "name": "ipython",
    "version": 2
   },
   "file_extension": ".py",
   "mimetype": "text/x-python",
   "name": "python",
   "nbconvert_exporter": "python",
   "pygments_lexer": "ipython2",
   "version": "2.7.13"
  }
 },
 "nbformat": 4,
 "nbformat_minor": 2
}
